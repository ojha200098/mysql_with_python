{
 "cells": [
  {
   "cell_type": "code",
   "execution_count": 46,
   "id": "35cec71b",
   "metadata": {},
   "outputs": [
    {
     "name": "stdout",
     "output_type": "stream",
     "text": [
      "('Customer',)\n"
     ]
    }
   ],
   "source": [
    "import mysql\n",
    "sql=mysql.connector.connect(\n",
    "host=\"localhost\",\n",
    "user=\"root\",\n",
    "password=\"Abhi8130\",\n",
    "database=\"Mishra\")\n",
    "sq=sql.cursor()\n",
    "sq.execute(\"Show tables\")\n",
    "for i in sq:\n",
    "    print(i)"
   ]
  },
  {
   "cell_type": "code",
   "execution_count": 5,
   "id": "b4d8be3e",
   "metadata": {},
   "outputs": [
    {
     "ename": "SyntaxError",
     "evalue": "invalid syntax (3694726923.py, line 3)",
     "output_type": "error",
     "traceback": [
      "\u001b[0;36m  Input \u001b[0;32mIn [5]\u001b[0;36m\u001b[0m\n\u001b[0;31m    user=\"root\"\u001b[0m\n\u001b[0m    ^\u001b[0m\n\u001b[0;31mSyntaxError\u001b[0m\u001b[0;31m:\u001b[0m invalid syntax\n"
     ]
    }
   ],
   "source": [
    "import mysql.connector\n",
    "\n",
    "mydb = mysql.connector.connect(\n",
    "  host=\"localhost\",\n",
    "  user=\"root\",\n",
    "  password=\"Abhi8130\"\n",
    ")\n",
    "\n",
    "mycursor = mydb.cursor()\n",
    "\n",
    "mycursor.execute(\"CREATE DATABASE mydatabase\")"
   ]
  },
  {
   "cell_type": "code",
   "execution_count": 66,
   "id": "ab35ca87",
   "metadata": {},
   "outputs": [],
   "source": [
    "\"\"\"Creating a Table\n",
    "To create a table in MySQL, use the \"CREATE TABLE\" statement.\n",
    "\n",
    "Make sure you define the name of the database when you create the connection\n",
    "\"\"\"\n",
    "\n",
    "import mysql\n",
    "sql=mysql.connector.connect(\n",
    "host=\"localhost\",\n",
    "user=\"root\",\n",
    "password=\"Abhi8130\",\n",
    "database=\"mydatabase\"\n",
    ")\n",
    "sq=sql.cursor()\n",
    "sq.execute(\"create table customer(name varchar(255),address varchar(255))\")"
   ]
  },
  {
   "cell_type": "code",
   "execution_count": 92,
   "id": "d79e012a",
   "metadata": {},
   "outputs": [
    {
     "name": "stdout",
     "output_type": "stream",
     "text": [
      "1 Insertes\n"
     ]
    }
   ],
   "source": [
    "\"\"\"\n",
    "Insert Into Table\n",
    "To fill a table in MySQL, use the \"INSERT INTO\" statement.\n",
    "\"\"\"\n",
    "import mysql\n",
    "sql=mysql.connector.connect(\n",
    "host=\"localhost\",\n",
    "user=\"root\",\n",
    "password=\"Abhi8130\",\n",
    "database=\"mydatabase\"\n",
    "\n",
    "\n",
    ")\n",
    "sq=sql.cursor()\n",
    "value=(\"Kapil\",\"tigri\")\n",
    "q=(\"insert into customer(name,address) value(%s,%s)\")\n",
    "sq.execute(q,value)\n",
    "# Store in database that why use commit command to insert data in database\n",
    "sql.commit()\n",
    "print(sq.rowcount,\"Insertes\")\n",
    "#Important!: Notice the statement: mydb.commit(). It is required to make the changes,\n",
    "#otherwise no changes are made to the table."
   ]
  },
  {
   "cell_type": "code",
   "execution_count": 105,
   "id": "06ed8137",
   "metadata": {},
   "outputs": [
    {
     "name": "stdout",
     "output_type": "stream",
     "text": [
      "0 inserted\n",
      "0\n"
     ]
    }
   ],
   "source": [
    "\"\"\"Insert Multiple Rows\n",
    "To insert multiple rows into a table, use the executemany() method.\n",
    "\n",
    "The second parameter of the executemany() method is a list of tuples, containing the data you want to insert:\n",
    "\n",
    "\"\"\"\n",
    "import mysql\n",
    "sql=mysql.connector.connect(\n",
    "host=\"localhost\",\n",
    "user=\"root\",\n",
    "password=\"Abhi8130\",\n",
    "database=\"mydatabase\"\n",
    "\n",
    "\n",
    ")\n",
    "sq=sql.cursor()\n",
    "q=\"insert into customer value(%s,%s)\"\n",
    "v=[(\"Aman\",\"vijay nagar\"),(\"Sachin\",\"Tigri\")]\n",
    "sq.executemany(q,v)\n",
    "sql.commit()\n",
    "print(sq.lastrowid,\"inserted\")\n",
    "# Note: If you insert more than one row, the id of the last inserted row is returned.\n",
    "print(sq.lastrowid)\n",
    "    "
   ]
  },
  {
   "cell_type": "markdown",
   "id": "26790ed1",
   "metadata": {},
   "source": [
    "# Select From a Table\n",
    "To select from a table in MySQL, use the \"SELECT\" statement:\n",
    "\n"
   ]
  },
  {
   "cell_type": "code",
   "execution_count": 5,
   "id": "8014c300",
   "metadata": {},
   "outputs": [
    {
     "name": "stdout",
     "output_type": "stream",
     "text": [
      "('Abhishek', 'Behrampur')\n",
      "('Abhishek', 'Behrampur')\n",
      "('Abhishek', 'Behrampur')\n",
      "('Abhishek', 'Behrampur')\n",
      "('Abhishek', 'Behrampur')\n",
      "('Kapil', 'tigri')\n",
      "('Aman', 'vijay nagar')\n",
      "('Sachin', 'Tigri')\n",
      "('Aman', 'vijay nagar')\n",
      "('Sachin', 'Tigri')\n",
      "('Aman', 'vijay nagar')\n",
      "('Sachin', 'Tigri')\n",
      "('Aman', 'vijay nagar')\n",
      "('Sachin', 'Tigri')\n",
      "('Aman', 'vijay nagar')\n",
      "('Sachin', 'Tigri')\n"
     ]
    }
   ],
   "source": [
    "import mysql.connector\n",
    "sql=mysql.connector.connect(\n",
    "\n",
    "    host=\"localhost\",\n",
    "    user=\"root\",\n",
    "    password=\"Abhi8130\",\n",
    "    database=\"mydatabase\"\n",
    ")\n",
    "sq=sql.cursor()\n",
    "sq.execute(\"Select * from customer\")\n",
    "a=sq.fetchall()\n",
    "for i in a:\n",
    "    print(i)"
   ]
  },
  {
   "cell_type": "markdown",
   "id": "8038903f",
   "metadata": {},
   "source": [
    "# Note: We use the fetchall() method, which fetches all rows from the last executed statement."
   ]
  },
  {
   "cell_type": "markdown",
   "id": "f721c666",
   "metadata": {},
   "source": [
    "# Selecting Columns\n",
    "To select only some of the columns in a table, use the \"SELECT\" statement followed by the column name(s)"
   ]
  },
  {
   "cell_type": "code",
   "execution_count": 8,
   "id": "0196d7c8",
   "metadata": {},
   "outputs": [
    {
     "name": "stdout",
     "output_type": "stream",
     "text": [
      "('Abhishek',)\n",
      "('Abhishek',)\n",
      "('Abhishek',)\n",
      "('Abhishek',)\n",
      "('Abhishek',)\n",
      "('Kapil',)\n",
      "('Aman',)\n",
      "('Sachin',)\n",
      "('Aman',)\n",
      "('Sachin',)\n",
      "('Aman',)\n",
      "('Sachin',)\n",
      "('Aman',)\n",
      "('Sachin',)\n",
      "('Aman',)\n",
      "('Sachin',)\n"
     ]
    }
   ],
   "source": [
    "import mysql.connector\n",
    "sql=mysql.connector.connect(\n",
    "\n",
    "    host=\"localhost\",\n",
    "    user=\"root\",\n",
    "    password=\"Abhi8130\",\n",
    "    database=\"mydatabase\"\n",
    "    \n",
    ")\n",
    "sq=sql.cursor()\n",
    "sq.execute(\"select name from customer\")\n",
    "a=sq.fetchall()\n",
    "for i in a:\n",
    "    print(i)"
   ]
  },
  {
   "cell_type": "markdown",
   "id": "6998470a",
   "metadata": {},
   "source": [
    "# Using the fetchone() Method\n",
    "If you are only interested in one row, you can use the fetchone() method.\n",
    "\n",
    "The fetchone() method will return the first row of the result:\n",
    "\n"
   ]
  },
  {
   "cell_type": "code",
   "execution_count": 12,
   "id": "507ecbe8",
   "metadata": {},
   "outputs": [
    {
     "name": "stdout",
     "output_type": "stream",
     "text": [
      "Abhishek\n",
      "Behrampur\n"
     ]
    }
   ],
   "source": [
    "import mysql.connector as ms\n",
    "sql=ms.connect(\n",
    "\n",
    "    host=\"localhost\",\n",
    "    user=\"root\",\n",
    "    password=\"Abhi8130\",\n",
    "    database=\"mydatabase\"\n",
    ")\n",
    "sq=sql.cursor()\n",
    "sq.execute(\"Select * from customer\")\n",
    "fc=sq.fetchone()\n",
    "for i in fc:\n",
    "    print(i)"
   ]
  },
  {
   "cell_type": "markdown",
   "id": "2360bf46",
   "metadata": {},
   "source": [
    "# Select With a Filter\n",
    "When selecting records from a table, you can filter the selection by using the \"WHERE\" statement:\n",
    "\n"
   ]
  },
  {
   "cell_type": "code",
   "execution_count": 15,
   "id": "d3886abf",
   "metadata": {},
   "outputs": [
    {
     "name": "stdout",
     "output_type": "stream",
     "text": [
      "('Kapil', 'tigri')\n",
      "('Sachin', 'Tigri')\n",
      "('Sachin', 'Tigri')\n",
      "('Sachin', 'Tigri')\n",
      "('Sachin', 'Tigri')\n",
      "('Sachin', 'Tigri')\n"
     ]
    }
   ],
   "source": [
    "import mysql.connector as mc\n",
    "sql=mc.connect(\n",
    "\n",
    "    host=\"localhost\",\n",
    "    user=\"root\",\n",
    "    password=\"Abhi8130\",\n",
    "    database=\"mydatabase\"\n",
    ")\n",
    "sq=sql.cursor()\n",
    "sq.execute(\"Select * from customer where address='tigri'\")\n",
    "a=sq.fetchall()\n",
    "for i in a:\n",
    "    print(i)"
   ]
  },
  {
   "cell_type": "markdown",
   "id": "59299bf6",
   "metadata": {},
   "source": [
    "# Wildcard Characters\n",
    "You can also select the records that starts, includes, or ends with a given letter or phrase.\n",
    "\n",
    "Use the %  to represent wildcard characters:"
   ]
  },
  {
   "cell_type": "code",
   "execution_count": 24,
   "id": "b47a3cd2",
   "metadata": {},
   "outputs": [
    {
     "name": "stdout",
     "output_type": "stream",
     "text": [
      "('Aman', 'vijay nagar')\n",
      "('Aman', 'vijay nagar')\n",
      "('Aman', 'vijay nagar')\n",
      "('Aman', 'vijay nagar')\n",
      "('Aman', 'vijay nagar')\n"
     ]
    }
   ],
   "source": [
    "import mysql.connector as mc\n",
    "sql=mc.connect(\n",
    "\n",
    "    host=\"localhost\",\n",
    "    user=\"root\",\n",
    "    password=\"Abhi8130\",\n",
    "    database=\"mydatabase\"\n",
    ")\n",
    "sq=sql.cursor()\n",
    "sq.execute(\"Select * from customer where name like 'Am%'\")\n",
    "a=sq.fetchall()\n",
    "for i in a:\n",
    "    print(i)"
   ]
  },
  {
   "cell_type": "markdown",
   "id": "e24d0774",
   "metadata": {},
   "source": [
    "# Sort the Result\n",
    "Use the ORDER BY statement to sort the result in ascending or descending order.\n",
    "\n",
    "The ORDER BY keyword sorts the result ascending by default. To sort the result in descending order, use the DESC keyword."
   ]
  },
  {
   "cell_type": "code",
   "execution_count": 28,
   "id": "f40e783e",
   "metadata": {},
   "outputs": [
    {
     "name": "stdout",
     "output_type": "stream",
     "text": [
      "('Abhishek', 'Behrampur')\n",
      "('Abhishek', 'Behrampur')\n",
      "('Abhishek', 'Behrampur')\n",
      "('Abhishek', 'Behrampur')\n",
      "('Abhishek', 'Behrampur')\n",
      "('Aman', 'vijay nagar')\n",
      "('Aman', 'vijay nagar')\n",
      "('Aman', 'vijay nagar')\n",
      "('Aman', 'vijay nagar')\n",
      "('Aman', 'vijay nagar')\n",
      "('Kapil', 'tigri')\n",
      "('Sachin', 'Tigri')\n",
      "('Sachin', 'Tigri')\n",
      "('Sachin', 'Tigri')\n",
      "('Sachin', 'Tigri')\n",
      "('Sachin', 'Tigri')\n"
     ]
    }
   ],
   "source": [
    "import mysql.connector\n",
    "sql=mysql.connector.connect(\n",
    "\n",
    "    host=\"localhost\",\n",
    "    user=\"root\",\n",
    "    password=\"Abhi8130\",\n",
    "    database=\"mydatabase\"\n",
    ")\n",
    "sq=sql.cursor()\n",
    "q=\"Select * from customer order by name,address \" \n",
    "sq.execute(q)\n",
    "a=sq.fetchall()\n",
    "for i in a:\n",
    "    print(i)"
   ]
  },
  {
   "cell_type": "code",
   "execution_count": 45,
   "id": "dea3da0e",
   "metadata": {},
   "outputs": [
    {
     "name": "stdout",
     "output_type": "stream",
     "text": [
      "('Aman', 'vijay nagar')\n",
      "('Aman', 'vijay nagar')\n",
      "('Aman', 'vijay nagar')\n",
      "('Aman', 'vijay nagar')\n",
      "('Aman', 'vijay nagar')\n",
      "('Kapil', 'tigri')\n",
      "('Abhishek', 'Behrampur')\n",
      "('Abhishek', 'Behrampur')\n",
      "('Abhishek', 'Behrampur')\n",
      "('Abhishek', 'Behrampur')\n",
      "('Abhishek', 'Behrampur')\n"
     ]
    }
   ],
   "source": [
    "import mysql.connector\n",
    "sql=mysql.connector.connect(\n",
    "\n",
    "    host=\"localhost\",\n",
    "    user=\"root\",\n",
    "    password=\"Abhi8130\",\n",
    "    database=\"mydatabase\"\n",
    ")\n",
    "sq=sql.cursor()\n",
    "q=\"Select * from customer order by address desc \" \n",
    "sq.execute(q)\n",
    "a=sq.fetchall()\n",
    "for i in a:\n",
    "    print(i)"
   ]
  },
  {
   "cell_type": "markdown",
   "id": "c6b14548",
   "metadata": {},
   "source": [
    "# Delete Record\n",
    "You can delete records from an existing table by using the \"DELETE FROM\" statement:\n",
    "\n"
   ]
  },
  {
   "cell_type": "code",
   "execution_count": 46,
   "id": "e030a939",
   "metadata": {},
   "outputs": [
    {
     "name": "stdout",
     "output_type": "stream",
     "text": [
      "0\n"
     ]
    }
   ],
   "source": [
    "import mysql.connector as mc\n",
    "sql=mc.connect(\n",
    "    host=\"localhost\",\n",
    "    user=\"root\",\n",
    "    password='Abhi8130',\n",
    "    database=\"mydatabase\"\n",
    ")\n",
    "sq=sql.cursor()\n",
    "#q=\"delect from customner where name='sachin' and address='tigri'\"\n",
    "sq.execute(\"delete from customer where name='sachin' and address='tigri'\")\n",
    "sql.commit()\n",
    "print(sq.rowcount)\n"
   ]
  },
  {
   "cell_type": "markdown",
   "id": "aa2e57a8",
   "metadata": {},
   "source": [
    "# Important!: Notice the statement: mydb.commit(). It is required to make the changes, otherwise no changes are made to the table."
   ]
  },
  {
   "cell_type": "code",
   "execution_count": 48,
   "id": "17bd3b19",
   "metadata": {},
   "outputs": [],
   "source": [
    "#Notice the WHERE clause in the DELETE syntax: The WHERE clause specifies which record(s) that should be deleted.\n",
    "#If you omit the WHERE clause, all records will be deleted!"
   ]
  },
  {
   "cell_type": "code",
   "execution_count": 51,
   "id": "bdc12a14",
   "metadata": {},
   "outputs": [
    {
     "name": "stdout",
     "output_type": "stream",
     "text": [
      "('customer',)\n",
      "('customer1',)\n",
      "('customers',)\n"
     ]
    }
   ],
   "source": [
    "import mysql.connector as mc\n",
    "sql=mc.connect(\n",
    "    host=\"localhost\",\n",
    "    user=\"root\",\n",
    "    password='Abhi8130',\n",
    "    database=\"mydatabase\")\n",
    "sq=sql.cursor()\n",
    "sq.execute(\"show tables\")\n",
    "for i in sq:\n",
    "    print(i)\n"
   ]
  },
  {
   "cell_type": "code",
   "execution_count": 53,
   "id": "a5ae7eb8",
   "metadata": {},
   "outputs": [
    {
     "name": "stdout",
     "output_type": "stream",
     "text": [
      "('John', 'Highway 21')\n",
      "('John', 'Highway 21')\n"
     ]
    }
   ],
   "source": [
    "import mysql.connector as mc\n",
    "sql=mc.connect(\n",
    "    host=\"localhost\",\n",
    "    user=\"root\",\n",
    "    password='Abhi8130',\n",
    "    database=\"mydatabase\")\n",
    "sq=sql.cursor()\n",
    "sq.execute(\"select * from customers\")\n",
    "a=sq.fetchall()\n",
    "for i in a:\n",
    "    print(i)\n"
   ]
  },
  {
   "cell_type": "code",
   "execution_count": 57,
   "id": "ba1373e6",
   "metadata": {},
   "outputs": [
    {
     "ename": "ProgrammingError",
     "evalue": "1051 (42S02): Unknown table 'mydatabase.customer1'",
     "output_type": "error",
     "traceback": [
      "\u001b[0;31m---------------------------------------------------------------------------\u001b[0m",
      "\u001b[0;31mProgrammingError\u001b[0m                          Traceback (most recent call last)",
      "Input \u001b[0;32mIn [57]\u001b[0m, in \u001b[0;36m<cell line: 8>\u001b[0;34m()\u001b[0m\n\u001b[1;32m      2\u001b[0m sql\u001b[38;5;241m=\u001b[39mmc\u001b[38;5;241m.\u001b[39mconnect(\n\u001b[1;32m      3\u001b[0m     host\u001b[38;5;241m=\u001b[39m\u001b[38;5;124m\"\u001b[39m\u001b[38;5;124mlocalhost\u001b[39m\u001b[38;5;124m\"\u001b[39m,\n\u001b[1;32m      4\u001b[0m     user\u001b[38;5;241m=\u001b[39m\u001b[38;5;124m\"\u001b[39m\u001b[38;5;124mroot\u001b[39m\u001b[38;5;124m\"\u001b[39m,\n\u001b[1;32m      5\u001b[0m     password\u001b[38;5;241m=\u001b[39m\u001b[38;5;124m'\u001b[39m\u001b[38;5;124mAbhi8130\u001b[39m\u001b[38;5;124m'\u001b[39m,\n\u001b[1;32m      6\u001b[0m     database\u001b[38;5;241m=\u001b[39m\u001b[38;5;124m\"\u001b[39m\u001b[38;5;124mmydatabase\u001b[39m\u001b[38;5;124m\"\u001b[39m)\n\u001b[1;32m      7\u001b[0m sq\u001b[38;5;241m=\u001b[39msql\u001b[38;5;241m.\u001b[39mcursor()\n\u001b[0;32m----> 8\u001b[0m \u001b[43msq\u001b[49m\u001b[38;5;241;43m.\u001b[39;49m\u001b[43mexecute\u001b[49m\u001b[43m(\u001b[49m\u001b[38;5;124;43m\"\u001b[39;49m\u001b[38;5;124;43mdrop table customer1\u001b[39;49m\u001b[38;5;124;43m\"\u001b[39;49m\u001b[43m)\u001b[49m\n",
      "File \u001b[0;32m/opt/anaconda3/lib/python3.9/site-packages/mysql/connector/cursor.py:617\u001b[0m, in \u001b[0;36mMySQLCursor.execute\u001b[0;34m(self, operation, params, multi)\u001b[0m\n\u001b[1;32m    614\u001b[0m     \u001b[38;5;28;01mreturn\u001b[39;00m \u001b[38;5;28mself\u001b[39m\u001b[38;5;241m.\u001b[39m_execute_iter(\u001b[38;5;28mself\u001b[39m\u001b[38;5;241m.\u001b[39m_connection\u001b[38;5;241m.\u001b[39mcmd_query_iter(stmt))\n\u001b[1;32m    616\u001b[0m \u001b[38;5;28;01mtry\u001b[39;00m:\n\u001b[0;32m--> 617\u001b[0m     \u001b[38;5;28mself\u001b[39m\u001b[38;5;241m.\u001b[39m_handle_result(\u001b[38;5;28;43mself\u001b[39;49m\u001b[38;5;241;43m.\u001b[39;49m\u001b[43m_connection\u001b[49m\u001b[38;5;241;43m.\u001b[39;49m\u001b[43mcmd_query\u001b[49m\u001b[43m(\u001b[49m\u001b[43mstmt\u001b[49m\u001b[43m)\u001b[49m)\n\u001b[1;32m    618\u001b[0m \u001b[38;5;28;01mexcept\u001b[39;00m InterfaceError \u001b[38;5;28;01mas\u001b[39;00m err:\n\u001b[1;32m    619\u001b[0m     \u001b[38;5;28;01mif\u001b[39;00m \u001b[38;5;28mself\u001b[39m\u001b[38;5;241m.\u001b[39m_connection\u001b[38;5;241m.\u001b[39mhave_next_result:\n",
      "File \u001b[0;32m/opt/anaconda3/lib/python3.9/site-packages/mysql/connector/connection.py:1046\u001b[0m, in \u001b[0;36mMySQLConnection.cmd_query\u001b[0;34m(self, query, raw, buffered, raw_as_string)\u001b[0m\n\u001b[1;32m   1044\u001b[0m query \u001b[38;5;241m=\u001b[39m \u001b[38;5;28mbytes\u001b[39m(packet)\n\u001b[1;32m   1045\u001b[0m \u001b[38;5;28;01mtry\u001b[39;00m:\n\u001b[0;32m-> 1046\u001b[0m     result \u001b[38;5;241m=\u001b[39m \u001b[38;5;28;43mself\u001b[39;49m\u001b[38;5;241;43m.\u001b[39;49m\u001b[43m_handle_result\u001b[49m\u001b[43m(\u001b[49m\u001b[38;5;28;43mself\u001b[39;49m\u001b[38;5;241;43m.\u001b[39;49m\u001b[43m_send_cmd\u001b[49m\u001b[43m(\u001b[49m\u001b[43mServerCmd\u001b[49m\u001b[38;5;241;43m.\u001b[39;49m\u001b[43mQUERY\u001b[49m\u001b[43m,\u001b[49m\u001b[43m \u001b[49m\u001b[43mquery\u001b[49m\u001b[43m)\u001b[49m\u001b[43m)\u001b[49m\n\u001b[1;32m   1047\u001b[0m \u001b[38;5;28;01mexcept\u001b[39;00m ProgrammingError \u001b[38;5;28;01mas\u001b[39;00m err:\n\u001b[1;32m   1048\u001b[0m     \u001b[38;5;28;01mif\u001b[39;00m err\u001b[38;5;241m.\u001b[39merrno \u001b[38;5;241m==\u001b[39m \u001b[38;5;241m3948\u001b[39m \u001b[38;5;129;01mand\u001b[39;00m \u001b[38;5;124m\"\u001b[39m\u001b[38;5;124mLoading local data is disabled\u001b[39m\u001b[38;5;124m\"\u001b[39m \u001b[38;5;129;01min\u001b[39;00m err\u001b[38;5;241m.\u001b[39mmsg:\n",
      "File \u001b[0;32m/opt/anaconda3/lib/python3.9/site-packages/mysql/connector/connection.py:824\u001b[0m, in \u001b[0;36mMySQLConnection._handle_result\u001b[0;34m(self, packet)\u001b[0m\n\u001b[1;32m    822\u001b[0m     \u001b[38;5;28;01mreturn\u001b[39;00m \u001b[38;5;28mself\u001b[39m\u001b[38;5;241m.\u001b[39m_handle_eof(packet)\n\u001b[1;32m    823\u001b[0m \u001b[38;5;28;01mif\u001b[39;00m packet[\u001b[38;5;241m4\u001b[39m] \u001b[38;5;241m==\u001b[39m \u001b[38;5;241m255\u001b[39m:\n\u001b[0;32m--> 824\u001b[0m     \u001b[38;5;28;01mraise\u001b[39;00m get_exception(packet)\n\u001b[1;32m    826\u001b[0m \u001b[38;5;66;03m# We have a text result set\u001b[39;00m\n\u001b[1;32m    827\u001b[0m column_count \u001b[38;5;241m=\u001b[39m \u001b[38;5;28mself\u001b[39m\u001b[38;5;241m.\u001b[39m_protocol\u001b[38;5;241m.\u001b[39mparse_column_count(packet)\n",
      "\u001b[0;31mProgrammingError\u001b[0m: 1051 (42S02): Unknown table 'mydatabase.customer1'"
     ]
    }
   ],
   "source": [
    "import mysql.connector as mc\n",
    "sql=mc.connect(\n",
    "    host=\"localhost\",\n",
    "    user=\"root\",\n",
    "    password='Abhi8130',\n",
    "    database=\"mydatabase\")\n",
    "sq=sql.cursor()\n",
    "sq.execute(\"drop table customer1\")\n"
   ]
  },
  {
   "cell_type": "code",
   "execution_count": 56,
   "id": "d377e041",
   "metadata": {},
   "outputs": [
    {
     "name": "stdout",
     "output_type": "stream",
     "text": [
      "('customer',)\n",
      "('customers',)\n"
     ]
    }
   ],
   "source": [
    "import mysql.connector as mc\n",
    "sql=mc.connect(\n",
    "    host=\"localhost\",\n",
    "    user=\"root\",\n",
    "    password='Abhi8130',\n",
    "    database=\"mydatabase\")\n",
    "sq=sql.cursor()\n",
    "sq.execute(\"show tables\")\n",
    "for i in sq:\n",
    "    print(i)\n"
   ]
  },
  {
   "cell_type": "code",
   "execution_count": 63,
   "id": "c543e848",
   "metadata": {},
   "outputs": [],
   "source": [
    "# if  not exits \n",
    "import mysql.connector as mc\n",
    "sql=mc.connect(\n",
    "    host=\"localhost\",\n",
    "    user=\"root\",\n",
    "    password='Abhi8130',\n",
    "    database=\"mydatabase\")\n",
    "sq=sql.cursor()\n",
    "sq.execute(\"drop table if exists customer1 \")\n",
    "# not error mean execute the querey\n"
   ]
  },
  {
   "cell_type": "markdown",
   "id": "a5f1743c",
   "metadata": {},
   "source": [
    "# Update Table\n",
    "You can update existing records in a table by using the \"UPDATE\" statement:"
   ]
  },
  {
   "cell_type": "code",
   "execution_count": 66,
   "id": "f39dddca",
   "metadata": {},
   "outputs": [
    {
     "name": "stdout",
     "output_type": "stream",
     "text": [
      "5 record(s) affected\n"
     ]
    }
   ],
   "source": [
    "import mysql.connector\n",
    "\n",
    "mydb = mysql.connector.connect(\n",
    "  host=\"localhost\",\n",
    "  user=\"root\",\n",
    "  password=\"Abhi8130\",\n",
    "  database=\"mydatabase\"\n",
    ")\n",
    "\n",
    "mycursor = mydb.cursor()\n",
    "\n",
    "sql = \"UPDATE customer SET address = 'Canyon 123' WHERE address = 'Behrampur'\"\n",
    "\n",
    "mycursor.execute(sql)\n",
    "\n",
    "mydb.commit()\n",
    "\n",
    "print(mycursor.rowcount, \"record(s) affected\")"
   ]
  },
  {
   "cell_type": "markdown",
   "id": "8e62425a",
   "metadata": {},
   "source": [
    "# Limit the Result\n",
    "You can limit the number of records returned from the query, by using the \"LIMIT\" statement:"
   ]
  },
  {
   "cell_type": "code",
   "execution_count": 69,
   "id": "6387b90d",
   "metadata": {},
   "outputs": [
    {
     "name": "stdout",
     "output_type": "stream",
     "text": [
      "('Abhishek', 'Canyon 123')\n",
      "('Abhishek', 'Canyon 123')\n",
      "('Abhishek', 'Canyon 123')\n",
      "('Abhishek', 'Canyon 123')\n",
      "('Abhishek', 'Canyon 123')\n",
      "('Aman', 'vijay nagar')\n",
      "('Aman', 'vijay nagar')\n",
      "('Aman', 'vijay nagar')\n",
      "('Aman', 'vijay nagar')\n",
      "('Aman', 'vijay nagar')\n",
      "('Kapil', 'tigri')\n"
     ]
    }
   ],
   "source": [
    "import mysql.connector\n",
    "sql=mysql.connector.connect(\n",
    "\n",
    "    host=\"localhost\",\n",
    "    user=\"root\",\n",
    "    password=\"Abhi8130\",\n",
    "    database=\"mydatabase\"\n",
    ")\n",
    "sq=sql.cursor()\n",
    "q=\"Select * from customer order by name \" \n",
    "sq.execute(q)\n",
    "a=sq.fetchall()\n",
    "for i in a:\n",
    "    print(i)"
   ]
  },
  {
   "cell_type": "code",
   "execution_count": 70,
   "id": "b9f8ae5b",
   "metadata": {},
   "outputs": [
    {
     "name": "stdout",
     "output_type": "stream",
     "text": [
      "('Aman', 'vijay nagar')\n",
      "('Aman', 'vijay nagar')\n",
      "('Aman', 'vijay nagar')\n",
      "('Aman', 'vijay nagar')\n",
      "('Aman', 'vijay nagar')\n"
     ]
    }
   ],
   "source": [
    "import mysql.connector\n",
    "sql=mysql.connector.connect(\n",
    "\n",
    "    host=\"localhost\",\n",
    "    user=\"root\",\n",
    "    password=\"Abhi8130\",\n",
    "    database=\"mydatabase\"\n",
    ")\n",
    "sq=sql.cursor()\n",
    "q=\"Select * from customer order by name limit 5 offset 5 \" \n",
    "sq.execute(q)\n",
    "a=sq.fetchall()\n",
    "for i in a:\n",
    "    print(i)"
   ]
  },
  {
   "cell_type": "code",
   "execution_count": 71,
   "id": "377f5b7a",
   "metadata": {},
   "outputs": [
    {
     "name": "stdout",
     "output_type": "stream",
     "text": [
      "('Abhishek', 'Canyon 123')\n",
      "('Abhishek', 'Canyon 123')\n",
      "('Abhishek', 'Canyon 123')\n",
      "('Abhishek', 'Canyon 123')\n",
      "('Abhishek', 'Canyon 123')\n"
     ]
    }
   ],
   "source": [
    "import mysql.connector\n",
    "sql=mysql.connector.connect(\n",
    "\n",
    "    host=\"localhost\",\n",
    "    user=\"root\",\n",
    "    password=\"Abhi8130\",\n",
    "    database=\"mydatabase\"\n",
    ")\n",
    "sq=sql.cursor()\n",
    "q=\"Select * from customer order by name limit 5\" \n",
    "sq.execute(q)\n",
    "a=sq.fetchall()\n",
    "for i in a:\n",
    "    print(i)"
   ]
  },
  {
   "cell_type": "markdown",
   "id": "8e3fd371",
   "metadata": {},
   "source": [
    "# Join Two or More Tables\n",
    "You can combine rows from two or more tables, based on a related column between them, by using a JOIN statement.\n",
    "\n",
    "Consider you have a \"users\" table and a \"products\" table:\n",
    "\n"
   ]
  },
  {
   "cell_type": "code",
   "execution_count": 83,
   "id": "ab835d98",
   "metadata": {},
   "outputs": [
    {
     "name": "stdout",
     "output_type": "stream",
     "text": [
      "1\n"
     ]
    }
   ],
   "source": [
    "import mysql.connector\n",
    "sql=mysql.connector.connect(\n",
    "\n",
    "    host=\"localhost\",\n",
    "    user=\"root\",\n",
    "    password=\"Abhi8130\",\n",
    "    database=\"mydatabase\"\n",
    ")\n",
    "sq=sql.cursor()\n",
    "q=\"insert into customers value('Abhishke','Tigri')\" \n",
    "sq.execute(q)\n",
    "sql.commit()\n",
    "print(sq.rowcount)\n"
   ]
  },
  {
   "cell_type": "code",
   "execution_count": 88,
   "id": "0d151811",
   "metadata": {},
   "outputs": [
    {
     "name": "stdout",
     "output_type": "stream",
     "text": [
      "('John', 'Highway 21')\n",
      "('John', 'Highway 21')\n",
      "('Abhishek', 'Tigri')\n",
      "('Abhishek', 'Tigri')\n"
     ]
    }
   ],
   "source": [
    "import mysql.connector\n",
    "sql=mysql.connector.connect(\n",
    "\n",
    "    host=\"localhost\",\n",
    "    user=\"root\",\n",
    "    password=\"Abhi8130\",\n",
    "    database=\"mydatabase\"\n",
    ")\n",
    "sq=sql.cursor()\n",
    "q=\"select * from customers\" \n",
    "sq.execute(q)\n",
    "a=sq.fetchall()\n",
    "for i in a:\n",
    "    print(i)\n"
   ]
  },
  {
   "cell_type": "code",
   "execution_count": 89,
   "id": "b3809cb2",
   "metadata": {},
   "outputs": [
    {
     "name": "stdout",
     "output_type": "stream",
     "text": [
      "('Kapil', 'tigri', 'Abhishek', 'Tigri')\n",
      "('Kapil', 'tigri', 'Abhishek', 'Tigri')\n"
     ]
    }
   ],
   "source": [
    "import mysql.connector\n",
    "sql=mysql.connector.connect(\n",
    "\n",
    "    host=\"localhost\",\n",
    "    user=\"root\",\n",
    "    password=\"Abhi8130\",\n",
    "    database=\"mydatabase\"\n",
    ")\n",
    "sq=sql.cursor()\n",
    "q=\"select * from customer inner join customers on customer.address=customers.address\" \n",
    "sq.execute(q)\n",
    "a=sq.fetchall()\n",
    "for i in a:\n",
    "    print(i)"
   ]
  },
  {
   "cell_type": "code",
   "execution_count": 90,
   "id": "38ab6ecf",
   "metadata": {},
   "outputs": [
    {
     "name": "stdout",
     "output_type": "stream",
     "text": [
      "(None, None, 'John', 'Highway 21')\n",
      "(None, None, 'John', 'Highway 21')\n",
      "('Kapil', 'tigri', 'Abhishek', 'Tigri')\n",
      "('Kapil', 'tigri', 'Abhishek', 'Tigri')\n"
     ]
    }
   ],
   "source": [
    "import mysql.connector\n",
    "sql=mysql.connector.connect(\n",
    "\n",
    "    host=\"localhost\",\n",
    "    user=\"root\",\n",
    "    password=\"Abhi8130\",\n",
    "    database=\"mydatabase\"\n",
    ")\n",
    "sq=sql.cursor()\n",
    "q=\"select * from customer right join customers on customer.address=customers.address\" \n",
    "sq.execute(q)\n",
    "a=sq.fetchall()\n",
    "for i in a:\n",
    "    print(i)"
   ]
  },
  {
   "cell_type": "code",
   "execution_count": 91,
   "id": "ec916ac1",
   "metadata": {},
   "outputs": [
    {
     "name": "stdout",
     "output_type": "stream",
     "text": [
      "('Abhishek', 'Canyon 123', None, None)\n",
      "('Abhishek', 'Canyon 123', None, None)\n",
      "('Abhishek', 'Canyon 123', None, None)\n",
      "('Abhishek', 'Canyon 123', None, None)\n",
      "('Abhishek', 'Canyon 123', None, None)\n",
      "('Kapil', 'tigri', 'Abhishek', 'Tigri')\n",
      "('Kapil', 'tigri', 'Abhishek', 'Tigri')\n",
      "('Aman', 'vijay nagar', None, None)\n",
      "('Aman', 'vijay nagar', None, None)\n",
      "('Aman', 'vijay nagar', None, None)\n",
      "('Aman', 'vijay nagar', None, None)\n",
      "('Aman', 'vijay nagar', None, None)\n"
     ]
    }
   ],
   "source": [
    "import mysql.connector\n",
    "sql=mysql.connector.connect(\n",
    "\n",
    "    host=\"localhost\",\n",
    "    user=\"root\",\n",
    "    password=\"Abhi8130\",\n",
    "    database=\"mydatabase\"\n",
    ")\n",
    "sq=sql.cursor()\n",
    "q=\"select * from customer left join customers on customer.address=customers.address\" \n",
    "sq.execute(q)\n",
    "a=sq.fetchall()\n",
    "for i in a:\n",
    "    print(i)"
   ]
  },
  {
   "cell_type": "code",
   "execution_count": null,
   "id": "02f47634",
   "metadata": {},
   "outputs": [],
   "source": []
  }
 ],
 "metadata": {
  "kernelspec": {
   "display_name": "Python 3 (ipykernel)",
   "language": "python",
   "name": "python3"
  },
  "language_info": {
   "codemirror_mode": {
    "name": "ipython",
    "version": 3
   },
   "file_extension": ".py",
   "mimetype": "text/x-python",
   "name": "python",
   "nbconvert_exporter": "python",
   "pygments_lexer": "ipython3",
   "version": "3.9.12"
  }
 },
 "nbformat": 4,
 "nbformat_minor": 5
}
